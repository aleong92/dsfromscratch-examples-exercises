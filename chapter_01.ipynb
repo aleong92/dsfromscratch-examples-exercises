{
 "cells": [
  {
   "cell_type": "markdown",
   "metadata": {},
   "source": [
    "## Chapter 1\n",
    "### _Data Science From Scratch_, Joel Grus"
   ]
  },
  {
   "cell_type": "markdown",
   "metadata": {},
   "source": [
    "This notebook contains my iterations of the examples presented in Chapter 01.  \n",
    "\n",
    "I'll asume that, since they came up with a better offer than **DataScienster** (more vacation days and an office with water-slides instead of stairs, can't say no to those), I'll be going to work for the newly-founded **Presidentalia**: which happens to be a social network for retired presidents (and dictators, too, there's always some dictators). The tasks are similar to those in DataScienster, though  \n",
    "\n",
    "**Important:** \n",
    "\n",
    "1. I'll be using the **3.9.12 version** of python for this project.\n",
    "2. The examples included in this notebook may feature different data and/or approaches from those in the book."
   ]
  },
  {
   "cell_type": "markdown",
   "metadata": {},
   "source": [
    "#### Example 1: Finding Key Connectors"
   ]
  },
  {
   "cell_type": "markdown",
   "metadata": {},
   "source": [
    "In my first day in Presidentalia, I'm provided with a turbo-charged personal computer and a lot of useless merch (ugly stickers, for example). After a brief process of installing Python, I'm all ready-to-go. The first task: get some interesting insights from these two datasets\n",
    "\n",
    "1. **User information (president id's).**\n",
    "2. **Friendships.**  \n",
    "\n",
    "They look like this:"
   ]
  },
  {
   "cell_type": "code",
   "execution_count": 1,
   "metadata": {},
   "outputs": [],
   "source": [
    "# The user information database is presented as a list of dictionaries. \n",
    "# Every registry contains two entries, one for the unique id the other for the name.\n",
    "users = (\n",
    "    [\n",
    "        {'id':0, 'name':'Barack Obama'},\n",
    "        {'id':1, 'name':'Donald Trump'},\n",
    "        {'id':2, 'name':'Mahmoud Ahmadinejad'},\n",
    "        {'id':3, 'name':'Nicolas Maduro'}, \n",
    "        {'id':4, 'name':'Michelle Bachelet'},\n",
    "        {'id':5, 'name':'Margaret Thatcher'}, # She's dead, I know, but that's another area's problem.\n",
    "        {'id':6, 'name':'Muammar Gaddafi'}, # Also dead\n",
    "        {'id':7, 'name':'Alvaro Uribe'},\n",
    "        {'id':8, 'name':'Jacob Zuma'},\n",
    "        {'id':9, 'name':'Ellen Johnson'},\n",
    "        {'id':10, 'name':'Laura Chinchilla'},\n",
    "        {'id':11, 'name':'Jacinda Ardern'},\n",
    "        {'id':12, 'name':'Xi Jinping'},\n",
    "        {'id':13, 'name':'Vladimir Putin'},\n",
    "        {'id':14, 'name':'Hugo Chavez'} # Dead as well\n",
    "    ]\n",
    ")\n",
    "\n",
    "# The friendship data is presented as a list of tuples (ie. pairwise). \n",
    "# Not the greatest format, as Joel said.\n",
    "friendship_pairs = (\n",
    "    [\n",
    "        (0,4), (0,7), (0,8), (0,9), (0,10), (0,11), #<---------------------------------------- OBAMA'S FRIENDS\n",
    "        (1,5), (1,13), #<--------------------------------------------------------------------- TRUMP'S FRIENDS\n",
    "        (2,3), (2,12), (2,13), (2,14), #<----------------------------------------------------- AHMADINEJAD'S FRIENDS\n",
    "        (3,6), (3,12), (3,13), (3,14), #<----------------------------------------------------- MADURO'S FRIENDS\n",
    "        (4,7), (4,8), (4,9), (4,10), (4,11), #<----------------------------------------------- BACHELET'S FRIENDS\n",
    "        (5,7), #<----------------------------------------------------------------------------- THATCHER'S FRIENDS\n",
    "        (6,13), (6,14), #<-------------------------------------------------------------------- GADDAFI'S FRIENDS\n",
    "        (7,10), #<---------------------------------------------------------------------------- URIBE'S FRIENDS\n",
    "        (8,9), (8,12), #<--------------------------------------------------------------------- ZUMA'S FRIENDS\n",
    "        (9,10), (9,11), (9,12), #<------------------------------------------------------------ JOHNSON'S FRIENDS\n",
    "        (10,11), (10,14), #<------------------------------------------------------------------ CHINCHILLA'S FRIENDS\n",
    "        (11,12), #<--------------------------------------------------------------------------- ARDERN'S FRIENDS\n",
    "        (12,13), (12,14), #<------------------------------------------------------------------ XI'S FRIENDS\n",
    "        (13,14) #<---------------------------------------------------------------------------- PUTIN'S FRIENDS\n",
    "    ]\n",
    ")\n"
   ]
  },
  {
   "cell_type": "markdown",
   "metadata": {},
   "source": [
    "The friendship data could be better presented if, instead of pairs, it matched every user with all of its friends. **How can this be achieved?** I'll present Joel's solution and mine (for some elements in the code, I'll include the suffixes **jg** and **al** respectively)."
   ]
  },
  {
   "cell_type": "code",
   "execution_count": 2,
   "metadata": {},
   "outputs": [],
   "source": [
    "## JOEL'S SOLUTION ##\n",
    "# I'll initiate an empty dictionary called 'friendships'; and, by looping over \n",
    "# every president's id we'll start populating it\n",
    "friendships_jg = {user['id']:[] for user in users}\n",
    "\n",
    "# The latter provides a dictionary where every id has an empty list to be filled with its friends ids\n",
    "# To do this, I'll use another loop: now over the friendship pairs\n",
    "for i,j in friendship_pairs: # <----------------- i,j are the elements of tuple (i,j)\n",
    "    \n",
    "    friendships_jg[i].append(j) # For president i, include friend j in its friends list\n",
    "    friendships_jg[j].append(i) # For president j, include friend i in its friends list\n",
    "\n",
    "## MY SOLUTION ##\n",
    "# I'll need two auxiliary lists: one for user ids and another for every user's friends lists\n",
    "users_aux = [user['id'] for user in users] #<--------- User ids\n",
    "\n",
    "# For the second list, I'll iterate over the user ids append every user's friends to an empty list \n",
    "friends_aux = [] \n",
    "\n",
    "for i in users_aux:\n",
    "\n",
    "    (\n",
    "        friends_aux\n",
    "        .append(\n",
    "            [user[1] for user in friendship_pairs if user[0]==i]+ # If tuple is (user,friend) include friend\n",
    "            [user[0] for user in friendship_pairs if user[1]==i] # If tuple is (friend,user) include friend\n",
    "        )\n",
    "    )\n",
    "\n",
    "# Finally, create a the same dictionary as in Joe's approach\n",
    "friendships_al = dict(zip(users_aux, friends_aux))\n"
   ]
  }
 ],
 "metadata": {
  "kernelspec": {
   "display_name": "Python 3.9.12 ('dsfromscratch')",
   "language": "python",
   "name": "python3"
  },
  "language_info": {
   "codemirror_mode": {
    "name": "ipython",
    "version": 3
   },
   "file_extension": ".py",
   "mimetype": "text/x-python",
   "name": "python",
   "nbconvert_exporter": "python",
   "pygments_lexer": "ipython3",
   "version": "3.9.12"
  },
  "orig_nbformat": 4,
  "vscode": {
   "interpreter": {
    "hash": "713d0560954e440c488527778c00014232b89df43c4657e0cf46956835324701"
   }
  }
 },
 "nbformat": 4,
 "nbformat_minor": 2
}
