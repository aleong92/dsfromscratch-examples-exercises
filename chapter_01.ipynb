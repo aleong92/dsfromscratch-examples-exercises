{
 "cells": [
  {
   "cell_type": "markdown",
   "metadata": {},
   "source": [
    "Chapter 1 notebook code goes here"
   ]
  },
  {
   "cell_type": "markdown",
   "metadata": {},
   "source": []
  }
 ],
 "metadata": {
  "kernelspec": {
   "display_name": "Python 3.9.12 ('base')",
   "language": "python",
   "name": "python3"
  },
  "language_info": {
   "name": "python",
   "version": "3.9.12"
  },
  "orig_nbformat": 4,
  "vscode": {
   "interpreter": {
    "hash": "7c9043c06a5e13ca217a8676a847b84ac802121d5cb0e8744d3a53b07b16d686"
   }
  }
 },
 "nbformat": 4,
 "nbformat_minor": 2
}
